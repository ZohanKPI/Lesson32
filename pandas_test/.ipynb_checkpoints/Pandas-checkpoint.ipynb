{
 "cells": [
  {
   "cell_type": "code",
   "execution_count": 3,
   "id": "4e64a38d",
   "metadata": {},
   "outputs": [
    {
     "data": {
      "text/plain": [
       "Jan    1\n",
       "Feb    2\n",
       "Mar    3\n",
       "Apr    4\n",
       "May    5\n",
       "dtype: int64"
      ]
     },
     "execution_count": 3,
     "metadata": {},
     "output_type": "execute_result"
    }
   ],
   "source": [
    "import pandas as pd\n",
    "count = pd.Series([1,2,3,4,5], index=index)\n",
    "count"
   ]
  },
  {
   "cell_type": "code",
   "execution_count": 2,
   "id": "2f01d52e",
   "metadata": {},
   "outputs": [],
   "source": [
    "index = ['Jan', 'Feb', 'Mar', 'Apr', 'May']"
   ]
  },
  {
   "cell_type": "code",
   "execution_count": null,
   "id": "fc0a6a30",
   "metadata": {},
   "outputs": [],
   "source": [
    "sales = pd.DataFrame()\n",
    "sales_data = {\n",
    "    'revenue' : \n",
    "}"
   ]
  }
 ],
 "metadata": {
  "kernelspec": {
   "display_name": "Python 3 (ipykernel)",
   "language": "python",
   "name": "python3"
  },
  "language_info": {
   "codemirror_mode": {
    "name": "ipython",
    "version": 3
   },
   "file_extension": ".py",
   "mimetype": "text/x-python",
   "name": "python",
   "nbconvert_exporter": "python",
   "pygments_lexer": "ipython3",
   "version": "3.9.7"
  }
 },
 "nbformat": 4,
 "nbformat_minor": 5
}
